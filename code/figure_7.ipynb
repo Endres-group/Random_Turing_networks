{
 "cells": [
  {
   "cell_type": "markdown",
   "metadata": {},
   "source": [
    "# Figure 7: Optimal network size for highest Turing robustness"
   ]
  },
  {
   "cell_type": "markdown",
   "metadata": {},
   "source": [
    "## Introduction\n",
    "In this notebook, we analyse the variation in propotion of Turing I instabilities with respect to network size *N* and variance $σ^2$. <br> <br>\n",
    "\n",
    "### Note\n",
    "In the final MSc project:\n",
    "\n",
    "- the network size *N* ranges from 3 to 100.\n",
    "\n",
    "- the variance $σ^2$ ranges from 0 to 1 with 0.02 increment.\n",
    "\n",
    "These parameters can be edited below as needed. <br> <br>\n",
    "***"
   ]
  },
  {
   "cell_type": "markdown",
   "metadata": {},
   "source": [
    "## Code"
   ]
  },
  {
   "cell_type": "markdown",
   "metadata": {},
   "source": [
    "### 1. Import Libraries"
   ]
  },
  {
   "cell_type": "code",
   "execution_count": 34,
   "metadata": {},
   "outputs": [],
   "source": [
    "import pandas as pd\n",
    "import numpy as np\n",
    "import os\n",
    "from scipy.signal import argrelextrema\n",
    "import time\n",
    "from multiprocessing.pool import ThreadPool\n",
    "import matplotlib.pyplot as plt\n",
    "import seaborn as sns"
   ]
  },
  {
   "cell_type": "markdown",
   "metadata": {},
   "source": [
    "### 2. Define Functions"
   ]
  },
  {
   "cell_type": "markdown",
   "metadata": {},
   "source": [
    "First, we define the random matrix generating function *gen_matrix_F()* with parameters *n* (network size) and *vr* (variance)."
   ]
  },
  {
   "cell_type": "code",
   "execution_count": 17,
   "metadata": {},
   "outputs": [],
   "source": [
    "def gen_matrix_F(n,vr):\n",
    "    x, y = n, vr\n",
    "    I = np.eye(n)\n",
    "    mu = 0\n",
    "    B = mu + np.sqrt(vr) * np.random.randn(n, n)\n",
    "    np.fill_diagonal(B, 0)\n",
    "    A = -I + B\n",
    "    D = np.zeros((n, n))\n",
    "    return A, D"
   ]
  },
  {
   "cell_type": "markdown",
   "metadata": {},
   "source": [
    "The commented part can be used when the sparsity > 0. It's simply a modified varsion of the *gen_matrix_F* function that injects sparsity. "
   ]
  },
  {
   "cell_type": "code",
   "execution_count": 35,
   "metadata": {},
   "outputs": [],
   "source": [
    "# code for sparsity > 0, dictionary = {network size:n of 0 entries}\n",
    "# def gen_matrix_F(n, vr):\n",
    "    #sparsity_dict = {3: , 4: , 5: , 6: , 7: , 8: , 9: , 10: }\n",
    "    #I = np.eye(n)\n",
    "    #mu = 0\n",
    "    #B = mu + np.sqrt(vr) * np.random.randn(n, n)\n",
    "    #np.fill_diagonal(B, 0)\n",
    "    #A = -I + B\n",
    "    #mask = np.eye(n) == 0\n",
    "    #od = np.sum(mask)\n",
    "    #s = sparsity_dict[n]\n",
    "    #odi = np.where(mask)\n",
    "    #indices_to_zero = np.random.choice(od, s, replace=False)\n",
    "    #for index in indices_to_zero:\n",
    "        #i, j = odi[0][index], odi[1][index]\n",
    "        #A[i, j] = 0\n",
    "    #D = np.zeros((n, n))\n",
    "    #return A, D"
   ]
  },
  {
   "cell_type": "markdown",
   "metadata": {},
   "source": [
    "Next, we define *process_tuple()* function which computes the Turing I percentage for each case (tuplet): $((n_1, var_1), (n_1, var_2), ..., (n_n, var_n))$"
   ]
  },
  {
   "cell_type": "code",
   "execution_count": 16,
   "metadata": {},
   "outputs": [],
   "source": [
    "def process_tuple(tuplet):\n",
    "    n,vr = tuplet\n",
    "    rm = []\n",
    "    for i in range(1000):\n",
    "        m = gen_matrix_F(n,vr)[0]\n",
    "        rm.append(m)\n",
    "\n",
    "    srm = []\n",
    "    for m in rm:\n",
    "        ev = np.linalg.eigvals(m)\n",
    "        if np.max(np.real(ev)) < 0:\n",
    "            srm.append(m)\n",
    "    \n",
    "    D = gen_matrix_F(n,vr)[1]\n",
    "    D[0, 0] = 1\n",
    "    D[1, 1] = 100\n",
    "    k = np.arange(0, 101, 0.2)\n",
    "  \n",
    "    urm = []\n",
    "    t1a = []\n",
    "    t1ar = []\n",
    "    t1ai = []\n",
    "    #\n",
    "    t1b = []\n",
    "    t1br = []\n",
    "    t1bi = []\n",
    "    #\n",
    "    t2a = []\n",
    "    t2ar = []\n",
    "    t2ai = []\n",
    "    #\n",
    "    t2b = []\n",
    "    t2br = []\n",
    "    t2bi = []\n",
    "#____________________________\n",
    "# LSA\n",
    "        \n",
    "    for m in srm:\n",
    "        Em = []\n",
    "        Emi = []\n",
    "        for i in range(len(k)):\n",
    "            R = m - D * (k[i] ** 2)\n",
    "            eigval = np.linalg.eigvals(R)\n",
    "            Em.append(np.max(np.real(eigval)))\n",
    "            idx_max = np.argmax(np.real(eigval))\n",
    "            Emi.append(np.imag(eigval[idx_max]))\n",
    "        a = np.max(Em)\n",
    "        index = np.argmax(Em)\n",
    "        nEm = np.array(Em)\n",
    "        if a > 0:\n",
    "            if Emi[index] == 0:\n",
    "                numZeroCrossing = np.count_nonzero(np.diff(np.sign(Em)))  # Count zero crossings\n",
    "                numpositivelocalmaxima = np.sum(nEm[argrelextrema(nEm,np.greater)]>0) > 0   \n",
    "                if numpositivelocalmaxima > 0 and numZeroCrossing % 2 == 0:\n",
    "                    t1a.append(m)\n",
    "                    t1ar.append(Em)\n",
    "                    t1ai.append(Emi)\n",
    "                elif numpositivelocalmaxima > 0 and numZeroCrossing == 1:\n",
    "                    t1b.append(m)\n",
    "                    t1br.append(Em)\n",
    "                    t1bi.append(Emi)\n",
    "                elif numpositivelocalmaxima == 0 and numZeroCrossing % 2 == 1:\n",
    "                    t2a.append(m)\n",
    "                    t2ar.append(Em)\n",
    "                    t2ai.append(Emi)\n",
    "                elif numpositivelocalmaxima > 0 and numZeroCrossing % 2 == 1:\n",
    "                    t2b.append(m)\n",
    "                    t2br.append(Em)\n",
    "                    t2bi.append(Emi)\n",
    "    percent = (len(t1a)+len(t1b))*0.1\n",
    "    \n",
    "    return percent"
   ]
  },
  {
   "cell_type": "markdown",
   "metadata": {},
   "source": [
    "### 3. Set Parameters"
   ]
  },
  {
   "cell_type": "markdown",
   "metadata": {},
   "source": [
    "Here, we can initialise and edit the parameters as needed. \n",
    "\n",
    "In the example below, n ranges between 3 and 20, while variance *var* ranges between 0 and 1 with 0.1 increment."
   ]
  },
  {
   "cell_type": "code",
   "execution_count": 36,
   "metadata": {},
   "outputs": [],
   "source": [
    "n = list(range(3, 21))                              # example: n up to 20\n",
    "var = [0, 0.2, 0.4, 0.6, 0.8, 1]                    # example: var 0.1 increment "
   ]
  },
  {
   "cell_type": "markdown",
   "metadata": {},
   "source": [
    "### 4. Generate Data"
   ]
  },
  {
   "cell_type": "markdown",
   "metadata": {},
   "source": [
    "In this cell, compute our data by calling the *process_tuple()* function defined above and by using multithreading.\n",
    "\n",
    "<span style=\"color:red\">Note 1</span>: The total number of data points/tuplets (#(n)*#(var)) must be divisible by the number of cores used.\n",
    "\n",
    "<span style=\"color:red\">Note 2</span>: ThreadPool python is not actually running multiple processes in parallel but instead is running multiple threads in parallel. We use ThreadPool here because it runs in the Jupyter Notebook. "
   ]
  },
  {
   "cell_type": "code",
   "execution_count": 18,
   "metadata": {},
   "outputs": [
    {
     "name": "stdout",
     "output_type": "stream",
     "text": [
      "Total execution time: 248.57 seconds\n"
     ]
    }
   ],
   "source": [
    "dp_list = [(x, y) for x in n for y in var] \n",
    "start_time = time.time()\n",
    "# Number of cores to use\n",
    "num_cores = 3\n",
    "\n",
    "# Create a multiprocessing pool\n",
    "pool = ThreadPool(processes=num_cores)\n",
    "\n",
    "# Use the pool to apply the process_tuple function to each tuple in the list\n",
    "results = pool.map(process_tuple, dp_list)\n",
    "# Close the pool \n",
    "pool.close()\n",
    "pool.join()\n",
    "\n",
    "end_time = time.time()\n",
    "\n",
    "#df.extend(results)\n",
    "df_data = pd.DataFrame({'n': [x[0] for x in dp_list], 'var': [x[1] for x in dp_list], 'Percentage': results})\n",
    "df_data.to_csv(os.path.join('./', 'heatmap.csv'), index=False)\n",
    "total_time = end_time - start_time\n",
    "print(f\"Total execution time: {total_time:.2f} seconds\")"
   ]
  },
  {
   "cell_type": "markdown",
   "metadata": {},
   "source": [
    "### 5. Upload Data"
   ]
  },
  {
   "cell_type": "markdown",
   "metadata": {},
   "source": [
    "After running the script, we obtain the following dataframe with 3 columns (n, variance, Turing I percentage):\n",
    "\n",
    "This dataframe is saved as a csv file. \n"
   ]
  },
  {
   "cell_type": "code",
   "execution_count": 27,
   "metadata": {},
   "outputs": [],
   "source": [
    "path = './heatmap.csv'\n",
    "data = pd.read_csv(path)\n",
    "\n",
    "# edit n and var here\n",
    "n.insert(0, 2)                  # insert n = 2 with % = 0 because Turing instability can't be computed for this case\n",
    "\n",
    "\n",
    "step = len(var)\n",
    "percentage = np.array(data['Percentage'])           # group Turing % values by network size n \n",
    "per = [percentage[i:i+step] for i in range(0, len(percentage), step)]\n",
    "per.insert(0, np.array([0] * step))"
   ]
  },
  {
   "cell_type": "code",
   "execution_count": 30,
   "metadata": {},
   "outputs": [
    {
     "data": {
      "text/html": [
       "<div>\n",
       "<style scoped>\n",
       "    .dataframe tbody tr th:only-of-type {\n",
       "        vertical-align: middle;\n",
       "    }\n",
       "\n",
       "    .dataframe tbody tr th {\n",
       "        vertical-align: top;\n",
       "    }\n",
       "\n",
       "    .dataframe thead th {\n",
       "        text-align: right;\n",
       "    }\n",
       "</style>\n",
       "<table border=\"1\" class=\"dataframe\">\n",
       "  <thead>\n",
       "    <tr style=\"text-align: right;\">\n",
       "      <th></th>\n",
       "      <th>n</th>\n",
       "      <th>var</th>\n",
       "      <th>Percentage</th>\n",
       "    </tr>\n",
       "  </thead>\n",
       "  <tbody>\n",
       "    <tr>\n",
       "      <th>0</th>\n",
       "      <td>3</td>\n",
       "      <td>0.0</td>\n",
       "      <td>0.0</td>\n",
       "    </tr>\n",
       "    <tr>\n",
       "      <th>1</th>\n",
       "      <td>3</td>\n",
       "      <td>0.2</td>\n",
       "      <td>0.1</td>\n",
       "    </tr>\n",
       "    <tr>\n",
       "      <th>2</th>\n",
       "      <td>3</td>\n",
       "      <td>0.4</td>\n",
       "      <td>0.1</td>\n",
       "    </tr>\n",
       "    <tr>\n",
       "      <th>3</th>\n",
       "      <td>3</td>\n",
       "      <td>0.6</td>\n",
       "      <td>0.2</td>\n",
       "    </tr>\n",
       "    <tr>\n",
       "      <th>4</th>\n",
       "      <td>3</td>\n",
       "      <td>0.8</td>\n",
       "      <td>0.8</td>\n",
       "    </tr>\n",
       "  </tbody>\n",
       "</table>\n",
       "</div>"
      ],
      "text/plain": [
       "   n  var  Percentage\n",
       "0  3  0.0         0.0\n",
       "1  3  0.2         0.1\n",
       "2  3  0.4         0.1\n",
       "3  3  0.6         0.2\n",
       "4  3  0.8         0.8"
      ]
     },
     "execution_count": 30,
     "metadata": {},
     "output_type": "execute_result"
    }
   ],
   "source": [
    "data.head()"
   ]
  },
  {
   "cell_type": "markdown",
   "metadata": {},
   "source": [
    "### 6. Data Visualisation\n",
    "- ### Heat Map"
   ]
  },
  {
   "cell_type": "code",
   "execution_count": 29,
   "metadata": {},
   "outputs": [
    {
     "data": {
      "image/png": "[encoded data removed]",
      "text/plain": [
       "<Figure size 800x600 with 2 Axes>"
      ]
     },
     "metadata": {},
     "output_type": "display_data"
    }
   ],
   "source": [
    "Y, X = np.meshgrid(var, n)\n",
    "plt.figure(figsize=(8, 6))\n",
    "colormap = plt.pcolormesh(X, Y, per, cmap='viridis')\n",
    "plt.colorbar(colormap)\n",
    "plt.xlabel(r'n', fontsize = 14)\n",
    "plt.ylabel('\\u03C3\\u00b2', fontsize = 14)\n",
    "plt.title('s = 0%', fontsize = 16,  fontweight = 'bold')\n",
    "plt.show()"
   ]
  },
  {
   "cell_type": "markdown",
   "metadata": {},
   "source": [
    "- ### Percentage Vertical Volume"
   ]
  },
  {
   "cell_type": "code",
   "execution_count": 33,
   "metadata": {},
   "outputs": [
    {
     "data": {
      "text/plain": [
       "(2.0, 20.9)"
      ]
     },
     "execution_count": 33,
     "metadata": {},
     "output_type": "execute_result"
    },
    {
     "data": {
      "image/png": "[encoded data removed]",
      "text/plain": [
       "<Figure size 640x480 with 1 Axes>"
      ]
     },
     "metadata": {},
     "output_type": "display_data"
    }
   ],
   "source": [
    "total_percentage = sum(percentage)\n",
    "share = []\n",
    "for i in per:\n",
    "    k = (sum(i)/total_percentage)*100\n",
    "    share.append(k)\n",
    "plot = sns.lineplot(x=n, y=share)\n",
    "plot.set_xlabel('n',fontsize=16)\n",
    "plot.set_ylabel('%',fontsize=16)\n",
    "plot.set_title('Percentage by Network Size', fontsize=14, fontweight = 'bold')\n",
    "plot.set_xlim(n[0])\n",
    "#plot.axvline(x=5, color='dimgrey', linestyle='--', ymax=10)"
   ]
  }
 ],
 "metadata": {
  "kernelspec": {
   "display_name": "Python 3",
   "language": "python",
   "name": "python3"
  },
  "language_info": {
   "codemirror_mode": {
    "name": "ipython",
    "version": 3
   },
   "file_extension": ".py",
   "mimetype": "text/x-python",
   "name": "python",
   "nbconvert_exporter": "python",
   "pygments_lexer": "ipython3",
   "version": "3.11.3"
  }
 },
 "nbformat": 4,
 "nbformat_minor": 2
}
