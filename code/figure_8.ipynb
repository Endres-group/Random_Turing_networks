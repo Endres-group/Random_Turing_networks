{
 "cells": [
  {
   "cell_type": "markdown",
   "metadata": {
    "id": "ffxrc1sDfznB"
   },
   "source": [
    "# Figure 8: Effect of Diffusion Constants on Turing Pattern Formation"
   ]
  },
  {
   "cell_type": "markdown",
   "metadata": {
    "id": "huDPVy2mh_hM"
   },
   "source": [
    "## Introduction\n",
    "In this notebook, we analyse the effect of diffusion constants $D_X$, $D_Y$ on Turing pattern formation, particularly on Turing instability (all types) and Turing type 1.\n",
    "\n",
    "The notebook serves as a tutorial for the *figure8_HS_v3.py* script.\n",
    "\n",
    "The script generates all 4 figures simultaneously, whereas here we will demonstrate by plotting them one by one.\n",
    "***\n",
    "***"
   ]
  },
  {
   "cell_type": "markdown",
   "metadata": {
    "id": "DVgME-v2iGHX"
   },
   "source": [
    "## Code\n",
    "\n",
    "### 1. Import Libraries"
   ]
  },
  {
   "cell_type": "code",
   "execution_count": 1,
   "metadata": {
    "id": "e0d5AwUGf1DA"
   },
   "outputs": [],
   "source": [
    "import pandas as pd\n",
    "import numpy as np\n",
    "import os\n",
    "from scipy.signal import argrelextrema\n",
    "import time\n",
    "from multiprocessing.pool import ThreadPool #replaced with import multiprocessing for .py script\n",
    "import matplotlib\n",
    "import matplotlib.pyplot as plt"
   ]
  },
  {
   "cell_type": "markdown",
   "metadata": {
    "id": "5VjZRKvHkenV"
   },
   "source": [
    "### 2. Define Functions"
   ]
  },
  {
   "cell_type": "markdown",
   "metadata": {
    "id": "tUlnBMfjkjMA"
   },
   "source": [
    "First, we define the random matrix generating function *gen_matrix_F()* with parameters *n* (network size) and *vr* (variance)."
   ]
  },
  {
   "cell_type": "code",
   "execution_count": 3,
   "metadata": {
    "id": "x_imt6H0f31a"
   },
   "outputs": [],
   "source": [
    "def gen_matrix_F(n,vr):\n",
    "    I = np.eye(n)\n",
    "    mu = 0\n",
    "    B = mu + np.sqrt(vr) * np.random.randn(n, n)\n",
    "    np.fill_diagonal(B, 0)\n",
    "    A = -I + B\n",
    "    D = np.zeros((n, n))\n",
    "    return A, D"
   ]
  },
  {
   "cell_type": "markdown",
   "metadata": {
    "id": "KcMkOm-ZkqfN"
   },
   "source": [
    "Next, we define *process_tuple()* function which computes the Turing and Turing I percentage for each case (tuplet): $(D_{x_1}, D_{y_1}), (D_{x_2}, D_{y_2}), ..., (D_{x_n}, D_{y_n})$.\n",
    "\n",
    "The function returns percentage of observed Turing I instability for a given diffusion constant pair.\n",
    "\n",
    "Note:\n",
    "- In this example, 1,000 matrices are generated for each $(D_x, D_y)$ pair. This number can be changed in the first for loop of the function.\n",
    "- In order to compute and visualise all 4 cases (N =2,3,5,50) simultaneously, we pass ((*N*,$σ^2$), $D_{x}$, $D_{y}$) to the function. <br>\n",
    "$(N,σ^2)$ part is assigned to a variable *p* which is fed to *gen_matrix_F()* function.\n"
   ]
  },
  {
   "cell_type": "code",
   "execution_count": 4,
   "metadata": {
    "id": "lynPRiIvgKor"
   },
   "outputs": [],
   "source": [
    "def process_tuple(tuplet):\n",
    "    p, Dx, Dy = tuplet\n",
    "    D = gen_matrix_F(p[0], p[1])[1]\n",
    "    D[0, 0] = Dx\n",
    "    D[1, 1] = Dy\n",
    "    k = np.arange(0, 10, 0.2)\n",
    "\n",
    "    count_t1a = 0\n",
    "    count_t1b = 0\n",
    "    count_t2a = 0\n",
    "    count_t2b = 0\n",
    "\n",
    "    for _ in range(1000):  # 1,000 matrices\n",
    "        m = gen_matrix_F(p[0], p[1])[0]\n",
    "        ev = np.linalg.eigvals(m)\n",
    "        if np.max(np.real(ev)) < 0:  # if matrix is stable\n",
    "            Em = []\n",
    "            Emi = []\n",
    "            for ki in k:\n",
    "                R = m - D * (ki ** 2)\n",
    "                eigval = np.linalg.eigvals(R)\n",
    "                Em.append(np.max(np.real(eigval)))\n",
    "                idx_max = np.argmax(np.real(eigval))\n",
    "                Emi.append(np.imag(eigval[idx_max]))\n",
    "            a = np.max(Em)\n",
    "            index = np.argmax(Em)\n",
    "            nEm = np.array(Em)\n",
    "            if a > 0:\n",
    "                if Emi[index] == 0:\n",
    "                    numZeroCrossing = np.count_nonzero(np.diff(np.sign(Em)))  # Count zero crossings\n",
    "                    numpositivelocalmaxima = np.sum(nEm[argrelextrema(nEm, np.greater)] > 0) > 0\n",
    "                    if numpositivelocalmaxima > 0 and numZeroCrossing % 2 == 0:\n",
    "                        count_t1a += 1\n",
    "                    elif numpositivelocalmaxima > 0 and numZeroCrossing == 1:\n",
    "                        count_t1b += 1\n",
    "                    elif numpositivelocalmaxima == 0 and numZeroCrossing % 2 == 1:\n",
    "                        count_t2a += 1\n",
    "                    elif numpositivelocalmaxima > 0 and numZeroCrossing % 2 == 1:\n",
    "                        count_t2b += 1\n",
    "\n",
    "    percent_turing_1 = (count_t1a + count_t1b) * 0.1\n",
    "    percent_turing = (count_t1a + count_t1b + count_t2a + count_t2b) * 0.1\n",
    "    return percent_turing_1, percent_turing"
   ]
  },
  {
   "cell_type": "markdown",
   "metadata": {
    "id": "RSEhoMFAl6NB"
   },
   "source": [
    "### 3. Set Parameters\n",
    "This is where the diffusion constants and network size-variance pairs are intialised.\n",
    "\n",
    "\n",
    "In this notebook, a coarser grid of 10 steps in the logarithmic space. A finer grid of 100 steps is used in the *figure8_re_v3.py* script.\n",
    "\n",
    "The diffusion constants can be adjusted here as needed for more accuracy."
   ]
  },
  {
   "cell_type": "code",
   "execution_count": 32,
   "metadata": {
    "id": "Mr6603Lap2Cr"
   },
   "outputs": [],
   "source": [
    "# diffusion constants\n",
    "dx = np.logspace(-3, 3, 10)\n",
    "dy = np.logspace(-3, 3, 10)"
   ]
  },
  {
   "cell_type": "markdown",
   "metadata": {
    "id": "1oxU-cQRpu20"
   },
   "source": [
    "The *params* variable represents cases we want to visualise (N, var).\n",
    "\n",
    "In this notebook, we define and plot each case separately.\n",
    "\n",
    "In the actual python script, the parameters are defined as *parameters = [(2, 1/2), (3, 1/3), (5, 1/5), (50, 1/50)]*\n",
    "\n",
    "The variance is picked in line with $σ^2$ = $\\frac{1}{N}$ (refer to Figure 7).\n",
    "- *N* = 2,  $σ^2$ = 1/2\n",
    "- *N* = 3,  $σ^2$ = 1/3\n",
    "- *N* = 5,  $σ^2$ = 1/5\n",
    "- *N* = 50,  $σ^2$ = 1/50\n",
    "\n",
    "For demonstration purposes, let us use $N=5$."
   ]
  },
  {
   "cell_type": "code",
   "execution_count": 33,
   "metadata": {
    "id": "dm2gJWeXsnWO"
   },
   "outputs": [],
   "source": [
    "# network size n and matrix variance vr\n",
    "parameters = [(5, 1/5)]  # (N, var)"
   ]
  },
  {
   "cell_type": "markdown",
   "metadata": {
    "id": "tNGXxPPxzN1c"
   },
   "source": [
    "### 4. Generate and Visualise Data"
   ]
  },
  {
   "cell_type": "markdown",
   "metadata": {
    "id": "4Jl3mX6tzVTC"
   },
   "source": [
    "In this cell, we compute our data by calling the *process_tuple()* function defined above and by using multithreading. <br><br>\n",
    "\n",
    "<span style=\"color:red\">Note 1</span>: A finer grid is used in the figure8_HS_v3.py file\n",
    "\n",
    "<span style=\"color:red\">Note 2</span>: ThreadPool python is not actually running multiple processes in parallel but instead is running multiple threads in parallel. ThreadPool is used here because it is compatible with the Jupyter Notebooks. In the *figure8_HS_v3.py* script, we use *multiprocessing* package."
   ]
  },
  {
   "cell_type": "markdown",
   "metadata": {
    "id": "JXG4Xk1N1mIQ"
   },
   "source": [
    "### *N = 5*"
   ]
  },
  {
   "cell_type": "code",
   "execution_count": 34,
   "metadata": {
    "colab": {
     "base_uri": "https://localhost:8080/"
    },
    "id": "IDBpYHscgTTa",
    "outputId": "82bfa43e-9533-4bf3-a24f-2b068c0909b2"
   },
   "outputs": [
    {
     "name": "stdout",
     "output_type": "stream",
     "text": [
      "Total execution time: 474.28 seconds\n"
     ]
    }
   ],
   "source": [
    "dp_list = [(par, x, y) for par in parameters for x in dx for y in dy]\n",
    "start_time = time.time()\n",
    "# Number of cores to use\n",
    "num_cores = 2\n",
    "\n",
    "# creating multiprocessing pool\n",
    "pool = ThreadPool(processes=num_cores)\n",
    "\n",
    "# using the pool to apply the process_tuple function to each tuple in the list\n",
    "results = pool.map(process_tuple, dp_list)\n",
    "# Close the pool\n",
    "pool.close()\n",
    "pool.join()\n",
    "\n",
    "end_time = time.time()\n",
    "\n",
    "percent_turing_1 = [res[0] for res in results]\n",
    "percent_turing = [res[1] for res in results]\n",
    "\n",
    "df_data = pd.DataFrame({'N': [x[0][0] for x in dp_list], 'Dx': [x[1] for x in dp_list], 'Dy': [x[2] for x in dp_list], 'Percentage_Turing_1': percent_turing_1,\n",
    "        'Percentage_Turing': percent_turing})\n",
    "df_data.to_csv(os.path.join('./', 'heatmap_fig8.csv'), index=False)\n",
    "total_time = end_time - start_time\n",
    "print(f\"Total execution time: {total_time:.2f} seconds\")"
   ]
  },
  {
   "cell_type": "markdown",
   "metadata": {
    "id": "pLy1BdDR4NAU"
   },
   "source": [
    "After running the above cell, we obtain the following dataframe with 5 columns (N, $D_x$, $D_y$, Turing I percentage, Turing percentage):\n",
    "\n",
    "This dataframe is saved as a csv file."
   ]
  },
  {
   "cell_type": "code",
   "execution_count": 35,
   "metadata": {
    "colab": {
     "base_uri": "https://localhost:8080/",
     "height": 206
    },
    "id": "9D7vdZvfhX7p",
    "outputId": "9214b37a-b16e-4165-d94d-b30cbb101935"
   },
   "outputs": [
    {
     "data": {
      "text/html": [
       "<div>\n",
       "<style scoped>\n",
       "    .dataframe tbody tr th:only-of-type {\n",
       "        vertical-align: middle;\n",
       "    }\n",
       "\n",
       "    .dataframe tbody tr th {\n",
       "        vertical-align: top;\n",
       "    }\n",
       "\n",
       "    .dataframe thead th {\n",
       "        text-align: right;\n",
       "    }\n",
       "</style>\n",
       "<table border=\"1\" class=\"dataframe\">\n",
       "  <thead>\n",
       "    <tr style=\"text-align: right;\">\n",
       "      <th></th>\n",
       "      <th>N</th>\n",
       "      <th>Dx</th>\n",
       "      <th>Dy</th>\n",
       "      <th>Percentage_Turing_1</th>\n",
       "      <th>Percentage_Turing</th>\n",
       "    </tr>\n",
       "  </thead>\n",
       "  <tbody>\n",
       "    <tr>\n",
       "      <th>0</th>\n",
       "      <td>5</td>\n",
       "      <td>0.001</td>\n",
       "      <td>0.001000</td>\n",
       "      <td>0.0</td>\n",
       "      <td>0.0</td>\n",
       "    </tr>\n",
       "    <tr>\n",
       "      <th>1</th>\n",
       "      <td>5</td>\n",
       "      <td>0.001</td>\n",
       "      <td>0.004642</td>\n",
       "      <td>0.0</td>\n",
       "      <td>0.1</td>\n",
       "    </tr>\n",
       "    <tr>\n",
       "      <th>2</th>\n",
       "      <td>5</td>\n",
       "      <td>0.001</td>\n",
       "      <td>0.021544</td>\n",
       "      <td>0.0</td>\n",
       "      <td>0.1</td>\n",
       "    </tr>\n",
       "    <tr>\n",
       "      <th>3</th>\n",
       "      <td>5</td>\n",
       "      <td>0.001</td>\n",
       "      <td>0.100000</td>\n",
       "      <td>0.3</td>\n",
       "      <td>0.4</td>\n",
       "    </tr>\n",
       "    <tr>\n",
       "      <th>4</th>\n",
       "      <td>5</td>\n",
       "      <td>0.001</td>\n",
       "      <td>0.464159</td>\n",
       "      <td>0.5</td>\n",
       "      <td>0.7</td>\n",
       "    </tr>\n",
       "  </tbody>\n",
       "</table>\n",
       "</div>"
      ],
      "text/plain": [
       "   N     Dx        Dy  Percentage_Turing_1  Percentage_Turing\n",
       "0  5  0.001  0.001000                  0.0                0.0\n",
       "1  5  0.001  0.004642                  0.0                0.1\n",
       "2  5  0.001  0.021544                  0.0                0.1\n",
       "3  5  0.001  0.100000                  0.3                0.4\n",
       "4  5  0.001  0.464159                  0.5                0.7"
      ]
     },
     "execution_count": 35,
     "metadata": {},
     "output_type": "execute_result"
    }
   ],
   "source": [
    "path = './heatmap_fig8.csv'\n",
    "data = pd.read_csv(path)\n",
    "data.head()"
   ]
  },
  {
   "cell_type": "markdown",
   "metadata": {
    "id": "CdanYhhX2eNz"
   },
   "source": [
    "Creating new dataframes based on unique *N* values."
   ]
  },
  {
   "cell_type": "code",
   "execution_count": 36,
   "metadata": {
    "id": "BjMfdlI0haaK"
   },
   "outputs": [],
   "source": [
    "# Compute log10 of Dx and Dy\n",
    "data['log_Dx'] = np.log10(data['Dx'])\n",
    "data['log_Dy'] = np.log10(data['Dy'])\n",
    "\n",
    "# N = 5\n",
    "df_n = data[data['N'] == 5]\n",
    "per = np.array(df_n['Percentage_Turing'])\n",
    "log_dx = np.array(df_n['log_Dx'])\n",
    "log_dy = np.array(df_n['log_Dy'])\n",
    "            \n",
    "l = len(np.unique(log_dx))\n",
    "percentage = [per[i:i + l] for i in range(0, len(per), l)]"
   ]
  },
  {
   "cell_type": "markdown",
   "metadata": {
    "id": "sRlXGWO16qAG"
   },
   "source": [
    "Plotting the heat map"
   ]
  },
  {
   "cell_type": "code",
   "execution_count": 37,
   "metadata": {
    "colab": {
     "base_uri": "https://localhost:8080/",
     "height": 575
    },
    "id": "Yx6hsCDhhebJ",
    "outputId": "fc4ad518-4f36-4dba-c25b-490628f48261"
   },
   "outputs": [
    {
     "data": {
      "image/png": "[encoded data removed]",
      "text/plain": [
       "<Figure size 800x600 with 2 Axes>"
      ]
     },
     "metadata": {},
     "output_type": "display_data"
    }
   ],
   "source": [
    "Y, X = np.meshgrid(np.unique(log_dy), np.unique(log_dx))\n",
    "plt.figure(figsize=(8, 6))\n",
    "colormap = plt.pcolormesh(X, Y, percentage, cmap='viridis')\n",
    "plt.colorbar(colormap)\n",
    "plt.xlabel(r'n', fontsize = 14)\n",
    "plt.xlabel(r'$log_{10}$$D_{x}$', fontsize = 14)\n",
    "plt.ylabel(r'$log_{10}$$D_{y}$', fontsize = 14)\n",
    "plt.title('N = 5', fontsize = 16,  fontweight = 'bold')\n",
    "plt.show()"
   ]
  },
  {
   "cell_type": "markdown",
   "metadata": {
    "id": "GisuFVhSJ0MB"
   },
   "source": [
    "Alternatively, percentage Turing 1 can also be plotted by specifying the variable `per`."
   ]
  },
  {
   "cell_type": "code",
   "execution_count": 38,
   "metadata": {
    "colab": {
     "base_uri": "https://localhost:8080/",
     "height": 593
    },
    "id": "kxbwpWPe5k-x",
    "outputId": "74397f6c-17f3-45a1-95a6-cbb25b5a5691"
   },
   "outputs": [
    {
     "data": {
      "image/png": "[encoded data removed]",
      "text/plain": [
       "<Figure size 800x600 with 2 Axes>"
      ]
     },
     "metadata": {},
     "output_type": "display_data"
    }
   ],
   "source": [
    "per = np.array(df_n['Percentage_Turing_1'])\n",
    "percentage = [per[i:i+l] for i in range(0, len(per), l)]\n",
    "\n",
    "Y, X = np.meshgrid(np.unique(log_dy), np.unique(log_dx))\n",
    "plt.figure(figsize=(8, 6))\n",
    "colormap = plt.pcolormesh(X, Y, percentage, cmap='viridis')\n",
    "plt.colorbar(colormap)\n",
    "plt.xlabel(r'n', fontsize = 14)\n",
    "plt.xlabel(r'$log_{10}$$D_{x}$', fontsize = 14)\n",
    "plt.ylabel(r'$log_{10}$$D_{y}$', fontsize = 14)\n",
    "plt.title('N = 5', fontsize = 16,  fontweight = 'bold')\n",
    "plt.show()"
   ]
  }
 ],
 "metadata": {
  "colab": {
   "provenance": []
  },
  "kernelspec": {
   "display_name": "Python 3 (ipykernel)",
   "language": "python",
   "name": "python3"
  },
  "language_info": {
   "codemirror_mode": {
    "name": "ipython",
    "version": 3
   },
   "file_extension": ".py",
   "mimetype": "text/x-python",
   "name": "python",
   "nbconvert_exporter": "python",
   "pygments_lexer": "ipython3",
   "version": "3.11.5"
  }
 },
 "nbformat": 4,
 "nbformat_minor": 4
}
