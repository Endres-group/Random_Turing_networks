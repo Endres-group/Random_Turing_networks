{
  "nbformat": 4,
  "nbformat_minor": 0,
  "metadata": {
    "colab": {
      "provenance": []
    },
    "kernelspec": {
      "name": "python3",
      "display_name": "Python 3"
    },
    "language_info": {
      "name": "python"
    }
  },
  "cells": [
    {
      "cell_type": "markdown",
      "source": [
        "# Figure 8: Effect of Diffusion Constants on Turing Pattern Formation"
      ],
      "metadata": {
        "id": "ffxrc1sDfznB"
      }
    },
    {
      "cell_type": "markdown",
      "source": [
        "## Introduction\n",
        "In this notebook, we analyse the effect of diffusion constants $D_X$, $D_Y$ on Turing pattern formation.\n",
        "\n",
        "The notebook serves as a tutorial for the *figure8_re_v3.py* script.\n",
        "\n",
        "The script generates all 4 figures simultaneously, whereas here we plot them one by one.\n",
        "***\n",
        "***"
      ],
      "metadata": {
        "id": "huDPVy2mh_hM"
      }
    },
    {
      "cell_type": "markdown",
      "source": [
        "## Code\n",
        "\n",
        "### 1. Import Libraries"
      ],
      "metadata": {
        "id": "DVgME-v2iGHX"
      }
    },
    {
      "cell_type": "code",
      "source": [
        "import pandas as pd\n",
        "import numpy as np\n",
        "import os\n",
        "from scipy.signal import argrelextrema\n",
        "import time\n",
        "from multiprocessing.pool import ThreadPool\n",
        "import matplotlib.pyplot as plt"
      ],
      "metadata": {
        "id": "e0d5AwUGf1DA"
      },
      "execution_count": 9,
      "outputs": []
    },
    {
      "cell_type": "markdown",
      "source": [
        "### 2. Define Functions"
      ],
      "metadata": {
        "id": "5VjZRKvHkenV"
      }
    },
    {
      "cell_type": "markdown",
      "source": [
        "First, we define the random matrix generating function *gen_matrix_F()* with parameters *n* (network size) and *vr* (variance)."
      ],
      "metadata": {
        "id": "tUlnBMfjkjMA"
      }
    },
    {
      "cell_type": "code",
      "source": [
        "def gen_matrix_F(n,vr):\n",
        "    I = np.eye(n)\n",
        "    mu = 0\n",
        "    B = mu + np.sqrt(vr) * np.random.randn(n, n)\n",
        "    np.fill_diagonal(B, 0)\n",
        "    A = -I + B\n",
        "    D = np.zeros((n, n))\n",
        "    return A, D"
      ],
      "metadata": {
        "id": "x_imt6H0f31a"
      },
      "execution_count": 10,
      "outputs": []
    },
    {
      "cell_type": "markdown",
      "source": [
        "Next, we define *process_tuple()* function which computes the Turing I percentage for each case (tuplet): $(D_{x_1}, D_{y_1}), (D_{x_2}, D_{y_2}), ..., (D_{x_n}, D_{y_n})$.\n",
        "\n",
        "The function returns percentage of observed Turing I instability for a given diffusion constant pair.\n",
        "\n",
        "Note:\n",
        "- In this example, 1,000 matrices are generated for each $(D_x, D_y)$ pair. This number can be changed in the first for loop of the function.\n",
        "- In order to compute and visualise all 4 cases (N =3,4,10,50) simultaneously, we pass ((*N*,$σ^2$), $D_{x}$, $D_{y}$) to the function. <br>\n",
        "$(N,σ^2)$ part is assigned to a variable *p* which is fed to *gen_matrix_F()* function.\n",
        "- In this example, we use slightly adjusted mesh *k = np.arrange(0, 10, 0.1)* for simplicity. In the *figure8_re_v3.py* script, *k = np.arrange(0, 10, 0.01)*\n",
        ""
      ],
      "metadata": {
        "id": "KcMkOm-ZkqfN"
      }
    },
    {
      "cell_type": "code",
      "source": [
        "def process_tuple(tuplet):\n",
        "    p,x,y = tuplet\n",
        "\n",
        "    D = gen_matrix_F(p[0],p[1])[1]\n",
        "    D[0, 0] = 10**x\n",
        "    D[1, 1] = 10**y\n",
        "    k = np.arange(0, 10, 0.1)\n",
        "\n",
        "    t1a = []\n",
        "    t1b = []\n",
        "    t2a = []\n",
        "    t2b = []\n",
        "\n",
        "\n",
        "    for i in range(1000): # 1,000 matrices\n",
        "        m = gen_matrix_F(p[0],p[1])[0]\n",
        "        ev = np.linalg.eigvals(m)\n",
        "        if np.max(np.real(ev)) < 0:    # if matrix is stable\n",
        "            Em = []\n",
        "            Emi = []\n",
        "            for i in range(len(k)):\n",
        "                R = m - D * (k[i] ** 2)\n",
        "                eigval = np.linalg.eigvals(R)\n",
        "                Em.append(np.max(np.real(eigval)))\n",
        "                idx_max = np.argmax(np.real(eigval))\n",
        "                Emi.append(np.imag(eigval[idx_max]))\n",
        "            a = np.max(Em)\n",
        "            index = np.argmax(Em)\n",
        "            nEm = np.array(Em)\n",
        "            if a > 0:\n",
        "                if Emi[index] == 0:\n",
        "                    numZeroCrossing = np.count_nonzero(np.diff(np.sign(Em)))  # Count zero crossings\n",
        "                    numpositivelocalmaxima = np.sum(nEm[argrelextrema(nEm,np.greater)]>0) > 0\n",
        "                    if numpositivelocalmaxima > 0 and numZeroCrossing % 2 == 0:\n",
        "                        t1a.append(m)\n",
        "                    elif numpositivelocalmaxima > 0 and numZeroCrossing == 1:\n",
        "                        t1b.append(m)\n",
        "                    elif numpositivelocalmaxima == 0 and numZeroCrossing % 2 == 1:\n",
        "                        t2a.append(m)\n",
        "                    elif numpositivelocalmaxima > 0 and numZeroCrossing % 2 == 1:\n",
        "                        t2b.append(m)\n",
        "    percent = (len(t1a)+len(t1b))*0.1\n",
        "\n",
        "    return percent"
      ],
      "metadata": {
        "id": "lynPRiIvgKor"
      },
      "execution_count": 11,
      "outputs": []
    },
    {
      "cell_type": "markdown",
      "source": [
        "### 3. Set Parameters\n",
        "This is where the diffusion constants and network size-variance pairs are intialised.\n",
        "\n",
        "\n",
        "In this notebook, a coarser grid is used with the increment of 0.5. A finer grid is used in the *figure8_re_v3.py* script.\n",
        "\n",
        "The diffusion constant increment can be adjusted here as needed for more accuracy."
      ],
      "metadata": {
        "id": "RSEhoMFAl6NB"
      }
    },
    {
      "cell_type": "code",
      "source": [
        "# diffusion constants\n",
        "dx = [-3,-2,-1,0,1,2,3]\n",
        "dy = [-3,-2,-1,0,1,2,3]"
      ],
      "metadata": {
        "id": "Mr6603Lap2Cr"
      },
      "execution_count": 12,
      "outputs": []
    },
    {
      "cell_type": "markdown",
      "source": [
        "The *params* variable represents cases we want to visualise (N, var).\n",
        "\n",
        "In this notebook, we define and plot each case separately.\n",
        "\n",
        "In the script, the parameters are defined as *parameters = [(3, 1), (4, 1), (10, 0.2), (50, 0.02)]*\n",
        "\n",
        "The variance is picked in line with $σ^2$ = $\\frac{1}{N}$ (refer to Figure 7).\n",
        "- *N* = 3,  $σ^2$ = 1\n",
        "- *N* = 4,  $σ^2$ = 1\n",
        "- *N* = 10,  $σ^2$ = 0.2\n",
        "- *N* = 50,  $σ^2$ = 0.02"
      ],
      "metadata": {
        "id": "1oxU-cQRpu20"
      }
    },
    {
      "cell_type": "code",
      "source": [
        "# network size n and matrix variance vr\n",
        "params3 = [(3, 1)]  # (N, var)\n",
        "params4 = [(4, 1)]\n",
        "params10 = [(10, 0.2)]\n",
        "params50 = [(50, 0.02)]"
      ],
      "metadata": {
        "id": "dm2gJWeXsnWO"
      },
      "execution_count": 13,
      "outputs": []
    },
    {
      "cell_type": "markdown",
      "source": [
        "### 4. Generate and Visualise Data"
      ],
      "metadata": {
        "id": "tNGXxPPxzN1c"
      }
    },
    {
      "cell_type": "markdown",
      "source": [
        "In this cell, we compute our data by calling the *process_tuple()* function defined above and by using multithreading. <br><br>\n",
        "\n",
        "<span style=\"color:red\">Note 1</span>: A finer grid is used in the figure8_RE_v3.py file\n",
        "\n",
        "<span style=\"color:red\">Note 2</span>: ThreadPool python is not actually running multiple processes in parallel but instead is running multiple threads in parallel. ThreadPool is used here because it is compatible with the Jupyter Notebooks. In the *figure8_re_v3.py* script, we use *multiprocessing* package."
      ],
      "metadata": {
        "id": "4Jl3mX6tzVTC"
      }
    },
    {
      "cell_type": "markdown",
      "source": [
        "### *N = 3*"
      ],
      "metadata": {
        "id": "JXG4Xk1N1mIQ"
      }
    },
    {
      "cell_type": "code",
      "source": [
        "dp_list = [(par, x, y) for par in params3 for x in dx for y in dy]\n",
        "start_time = time.time()\n",
        "# Number of cores to use\n",
        "num_cores = 2\n",
        "\n",
        "# creating multiprocessing pool\n",
        "pool = ThreadPool(processes=num_cores)\n",
        "\n",
        "# using the pool to apply the process_tuple function to each tuple in the list\n",
        "results = pool.map(process_tuple, dp_list)\n",
        "# Close the pool\n",
        "pool.close()\n",
        "pool.join()\n",
        "\n",
        "end_time = time.time()\n",
        "\n",
        "df_data = pd.DataFrame({'N': [x[0][0] for x in dp_list], 'Dx': [x[1] for x in dp_list], 'Dy': [x[2] for x in dp_list], 'Percentage': results})\n",
        "df_data.to_csv(os.path.join('./', 'heatmap3_fig8.csv'), index=False)\n",
        "total_time = end_time - start_time\n",
        "print(f\"Total execution time: {total_time:.2f} seconds\")"
      ],
      "metadata": {
        "colab": {
          "base_uri": "https://localhost:8080/"
        },
        "id": "IDBpYHscgTTa",
        "outputId": "82bfa43e-9533-4bf3-a24f-2b068c0909b2"
      },
      "execution_count": 5,
      "outputs": [
        {
          "output_type": "stream",
          "name": "stdout",
          "text": [
            "Total execution time: 253.53 seconds\n"
          ]
        }
      ]
    },
    {
      "cell_type": "markdown",
      "source": [
        "After running the above cell, we obtain the following dataframe with 4 columns (N, $D_x$, $D_y$, Turing I percentage):\n",
        "\n",
        "This dataframe is saved as a csv file."
      ],
      "metadata": {
        "id": "pLy1BdDR4NAU"
      }
    },
    {
      "cell_type": "code",
      "source": [
        "# N = 3\n",
        "path3 = './heatmap3_fig8.csv'\n",
        "data3 = pd.read_csv(path3)\n",
        "data3.head()"
      ],
      "metadata": {
        "colab": {
          "base_uri": "https://localhost:8080/",
          "height": 206
        },
        "id": "9D7vdZvfhX7p",
        "outputId": "9214b37a-b16e-4165-d94d-b30cbb101935"
      },
      "execution_count": 6,
      "outputs": [
        {
          "output_type": "execute_result",
          "data": {
            "text/plain": [
              "   N  Dx  Dy  Percentage\n",
              "0  3  -3  -3         0.0\n",
              "1  3  -3  -2         0.0\n",
              "2  3  -3  -1         0.2\n",
              "3  3  -3   0         2.9\n",
              "4  3  -3   1         2.0"
            ],
            "text/html": [
              "\n",
              "  <div id=\"df-7aa803b5-c47e-4af5-b543-16d4ae7b3cdb\" class=\"colab-df-container\">\n",
              "    <div>\n",
              "<style scoped>\n",
              "    .dataframe tbody tr th:only-of-type {\n",
              "        vertical-align: middle;\n",
              "    }\n",
              "\n",
              "    .dataframe tbody tr th {\n",
              "        vertical-align: top;\n",
              "    }\n",
              "\n",
              "    .dataframe thead th {\n",
              "        text-align: right;\n",
              "    }\n",
              "</style>\n",
              "<table border=\"1\" class=\"dataframe\">\n",
              "  <thead>\n",
              "    <tr style=\"text-align: right;\">\n",
              "      <th></th>\n",
              "      <th>N</th>\n",
              "      <th>Dx</th>\n",
              "      <th>Dy</th>\n",
              "      <th>Percentage</th>\n",
              "    </tr>\n",
              "  </thead>\n",
              "  <tbody>\n",
              "    <tr>\n",
              "      <th>0</th>\n",
              "      <td>3</td>\n",
              "      <td>-3</td>\n",
              "      <td>-3</td>\n",
              "      <td>0.0</td>\n",
              "    </tr>\n",
              "    <tr>\n",
              "      <th>1</th>\n",
              "      <td>3</td>\n",
              "      <td>-3</td>\n",
              "      <td>-2</td>\n",
              "      <td>0.0</td>\n",
              "    </tr>\n",
              "    <tr>\n",
              "      <th>2</th>\n",
              "      <td>3</td>\n",
              "      <td>-3</td>\n",
              "      <td>-1</td>\n",
              "      <td>0.2</td>\n",
              "    </tr>\n",
              "    <tr>\n",
              "      <th>3</th>\n",
              "      <td>3</td>\n",
              "      <td>-3</td>\n",
              "      <td>0</td>\n",
              "      <td>2.9</td>\n",
              "    </tr>\n",
              "    <tr>\n",
              "      <th>4</th>\n",
              "      <td>3</td>\n",
              "      <td>-3</td>\n",
              "      <td>1</td>\n",
              "      <td>2.0</td>\n",
              "    </tr>\n",
              "  </tbody>\n",
              "</table>\n",
              "</div>\n",
              "    <div class=\"colab-df-buttons\">\n",
              "\n",
              "  <div class=\"colab-df-container\">\n",
              "    <button class=\"colab-df-convert\" onclick=\"convertToInteractive('df-7aa803b5-c47e-4af5-b543-16d4ae7b3cdb')\"\n",
              "            title=\"Convert this dataframe to an interactive table.\"\n",
              "            style=\"display:none;\">\n",
              "\n",
              "  <svg xmlns=\"http://www.w3.org/2000/svg\" height=\"24px\" viewBox=\"0 -960 960 960\">\n",
              "    <path d=\"M120-120v-720h720v720H120Zm60-500h600v-160H180v160Zm220 220h160v-160H400v160Zm0 220h160v-160H400v160ZM180-400h160v-160H180v160Zm440 0h160v-160H620v160ZM180-180h160v-160H180v160Zm440 0h160v-160H620v160Z\"/>\n",
              "  </svg>\n",
              "    </button>\n",
              "\n",
              "  <style>\n",
              "    .colab-df-container {\n",
              "      display:flex;\n",
              "      gap: 12px;\n",
              "    }\n",
              "\n",
              "    .colab-df-convert {\n",
              "      background-color: #E8F0FE;\n",
              "      border: none;\n",
              "      border-radius: 50%;\n",
              "      cursor: pointer;\n",
              "      display: none;\n",
              "      fill: #1967D2;\n",
              "      height: 32px;\n",
              "      padding: 0 0 0 0;\n",
              "      width: 32px;\n",
              "    }\n",
              "\n",
              "    .colab-df-convert:hover {\n",
              "      background-color: #E2EBFA;\n",
              "      box-shadow: 0px 1px 2px rgba(60, 64, 67, 0.3), 0px 1px 3px 1px rgba(60, 64, 67, 0.15);\n",
              "      fill: #174EA6;\n",
              "    }\n",
              "\n",
              "    .colab-df-buttons div {\n",
              "      margin-bottom: 4px;\n",
              "    }\n",
              "\n",
              "    [theme=dark] .colab-df-convert {\n",
              "      background-color: #3B4455;\n",
              "      fill: #D2E3FC;\n",
              "    }\n",
              "\n",
              "    [theme=dark] .colab-df-convert:hover {\n",
              "      background-color: #434B5C;\n",
              "      box-shadow: 0px 1px 3px 1px rgba(0, 0, 0, 0.15);\n",
              "      filter: drop-shadow(0px 1px 2px rgba(0, 0, 0, 0.3));\n",
              "      fill: #FFFFFF;\n",
              "    }\n",
              "  </style>\n",
              "\n",
              "    <script>\n",
              "      const buttonEl =\n",
              "        document.querySelector('#df-7aa803b5-c47e-4af5-b543-16d4ae7b3cdb button.colab-df-convert');\n",
              "      buttonEl.style.display =\n",
              "        google.colab.kernel.accessAllowed ? 'block' : 'none';\n",
              "\n",
              "      async function convertToInteractive(key) {\n",
              "        const element = document.querySelector('#df-7aa803b5-c47e-4af5-b543-16d4ae7b3cdb');\n",
              "        const dataTable =\n",
              "          await google.colab.kernel.invokeFunction('convertToInteractive',\n",
              "                                                    [key], {});\n",
              "        if (!dataTable) return;\n",
              "\n",
              "        const docLinkHtml = 'Like what you see? Visit the ' +\n",
              "          '<a target=\"_blank\" href=https://colab.research.google.com/notebooks/data_table.ipynb>data table notebook</a>'\n",
              "          + ' to learn more about interactive tables.';\n",
              "        element.innerHTML = '';\n",
              "        dataTable['output_type'] = 'display_data';\n",
              "        await google.colab.output.renderOutput(dataTable, element);\n",
              "        const docLink = document.createElement('div');\n",
              "        docLink.innerHTML = docLinkHtml;\n",
              "        element.appendChild(docLink);\n",
              "      }\n",
              "    </script>\n",
              "  </div>\n",
              "\n",
              "\n",
              "<div id=\"df-a0ff298b-cc44-4bdf-8eb7-d88d4051ce51\">\n",
              "  <button class=\"colab-df-quickchart\" onclick=\"quickchart('df-a0ff298b-cc44-4bdf-8eb7-d88d4051ce51')\"\n",
              "            title=\"Suggest charts\"\n",
              "            style=\"display:none;\">\n",
              "\n",
              "<svg xmlns=\"http://www.w3.org/2000/svg\" height=\"24px\"viewBox=\"0 0 24 24\"\n",
              "     width=\"24px\">\n",
              "    <g>\n",
              "        <path d=\"M19 3H5c-1.1 0-2 .9-2 2v14c0 1.1.9 2 2 2h14c1.1 0 2-.9 2-2V5c0-1.1-.9-2-2-2zM9 17H7v-7h2v7zm4 0h-2V7h2v10zm4 0h-2v-4h2v4z\"/>\n",
              "    </g>\n",
              "</svg>\n",
              "  </button>\n",
              "\n",
              "<style>\n",
              "  .colab-df-quickchart {\n",
              "      --bg-color: #E8F0FE;\n",
              "      --fill-color: #1967D2;\n",
              "      --hover-bg-color: #E2EBFA;\n",
              "      --hover-fill-color: #174EA6;\n",
              "      --disabled-fill-color: #AAA;\n",
              "      --disabled-bg-color: #DDD;\n",
              "  }\n",
              "\n",
              "  [theme=dark] .colab-df-quickchart {\n",
              "      --bg-color: #3B4455;\n",
              "      --fill-color: #D2E3FC;\n",
              "      --hover-bg-color: #434B5C;\n",
              "      --hover-fill-color: #FFFFFF;\n",
              "      --disabled-bg-color: #3B4455;\n",
              "      --disabled-fill-color: #666;\n",
              "  }\n",
              "\n",
              "  .colab-df-quickchart {\n",
              "    background-color: var(--bg-color);\n",
              "    border: none;\n",
              "    border-radius: 50%;\n",
              "    cursor: pointer;\n",
              "    display: none;\n",
              "    fill: var(--fill-color);\n",
              "    height: 32px;\n",
              "    padding: 0;\n",
              "    width: 32px;\n",
              "  }\n",
              "\n",
              "  .colab-df-quickchart:hover {\n",
              "    background-color: var(--hover-bg-color);\n",
              "    box-shadow: 0 1px 2px rgba(60, 64, 67, 0.3), 0 1px 3px 1px rgba(60, 64, 67, 0.15);\n",
              "    fill: var(--button-hover-fill-color);\n",
              "  }\n",
              "\n",
              "  .colab-df-quickchart-complete:disabled,\n",
              "  .colab-df-quickchart-complete:disabled:hover {\n",
              "    background-color: var(--disabled-bg-color);\n",
              "    fill: var(--disabled-fill-color);\n",
              "    box-shadow: none;\n",
              "  }\n",
              "\n",
              "  .colab-df-spinner {\n",
              "    border: 2px solid var(--fill-color);\n",
              "    border-color: transparent;\n",
              "    border-bottom-color: var(--fill-color);\n",
              "    animation:\n",
              "      spin 1s steps(1) infinite;\n",
              "  }\n",
              "\n",
              "  @keyframes spin {\n",
              "    0% {\n",
              "      border-color: transparent;\n",
              "      border-bottom-color: var(--fill-color);\n",
              "      border-left-color: var(--fill-color);\n",
              "    }\n",
              "    20% {\n",
              "      border-color: transparent;\n",
              "      border-left-color: var(--fill-color);\n",
              "      border-top-color: var(--fill-color);\n",
              "    }\n",
              "    30% {\n",
              "      border-color: transparent;\n",
              "      border-left-color: var(--fill-color);\n",
              "      border-top-color: var(--fill-color);\n",
              "      border-right-color: var(--fill-color);\n",
              "    }\n",
              "    40% {\n",
              "      border-color: transparent;\n",
              "      border-right-color: var(--fill-color);\n",
              "      border-top-color: var(--fill-color);\n",
              "    }\n",
              "    60% {\n",
              "      border-color: transparent;\n",
              "      border-right-color: var(--fill-color);\n",
              "    }\n",
              "    80% {\n",
              "      border-color: transparent;\n",
              "      border-right-color: var(--fill-color);\n",
              "      border-bottom-color: var(--fill-color);\n",
              "    }\n",
              "    90% {\n",
              "      border-color: transparent;\n",
              "      border-bottom-color: var(--fill-color);\n",
              "    }\n",
              "  }\n",
              "</style>\n",
              "\n",
              "  <script>\n",
              "    async function quickchart(key) {\n",
              "      const quickchartButtonEl =\n",
              "        document.querySelector('#' + key + ' button');\n",
              "      quickchartButtonEl.disabled = true;  // To prevent multiple clicks.\n",
              "      quickchartButtonEl.classList.add('colab-df-spinner');\n",
              "      try {\n",
              "        const charts = await google.colab.kernel.invokeFunction(\n",
              "            'suggestCharts', [key], {});\n",
              "      } catch (error) {\n",
              "        console.error('Error during call to suggestCharts:', error);\n",
              "      }\n",
              "      quickchartButtonEl.classList.remove('colab-df-spinner');\n",
              "      quickchartButtonEl.classList.add('colab-df-quickchart-complete');\n",
              "    }\n",
              "    (() => {\n",
              "      let quickchartButtonEl =\n",
              "        document.querySelector('#df-a0ff298b-cc44-4bdf-8eb7-d88d4051ce51 button');\n",
              "      quickchartButtonEl.style.display =\n",
              "        google.colab.kernel.accessAllowed ? 'block' : 'none';\n",
              "    })();\n",
              "  </script>\n",
              "</div>\n",
              "\n",
              "    </div>\n",
              "  </div>\n"
            ],
            "application/vnd.google.colaboratory.intrinsic+json": {
              "type": "dataframe",
              "variable_name": "data",
              "summary": "{\n  \"name\": \"data\",\n  \"rows\": 49,\n  \"fields\": [\n    {\n      \"column\": \"N\",\n      \"properties\": {\n        \"dtype\": \"number\",\n        \"std\": 0,\n        \"min\": 3,\n        \"max\": 3,\n        \"num_unique_values\": 1,\n        \"samples\": [\n          3\n        ],\n        \"semantic_type\": \"\",\n        \"description\": \"\"\n      }\n    },\n    {\n      \"column\": \"Dx\",\n      \"properties\": {\n        \"dtype\": \"number\",\n        \"std\": 2,\n        \"min\": -3,\n        \"max\": 3,\n        \"num_unique_values\": 7,\n        \"samples\": [\n          -3\n        ],\n        \"semantic_type\": \"\",\n        \"description\": \"\"\n      }\n    },\n    {\n      \"column\": \"Dy\",\n      \"properties\": {\n        \"dtype\": \"number\",\n        \"std\": 2,\n        \"min\": -3,\n        \"max\": 3,\n        \"num_unique_values\": 7,\n        \"samples\": [\n          -3\n        ],\n        \"semantic_type\": \"\",\n        \"description\": \"\"\n      }\n    },\n    {\n      \"column\": \"Percentage\",\n      \"properties\": {\n        \"dtype\": \"number\",\n        \"std\": 1.17990905333829,\n        \"min\": 0.0,\n        \"max\": 3.6,\n        \"num_unique_values\": 27,\n        \"samples\": [\n          2.4000000000000004\n        ],\n        \"semantic_type\": \"\",\n        \"description\": \"\"\n      }\n    }\n  ]\n}"
            }
          },
          "metadata": {},
          "execution_count": 6
        }
      ]
    },
    {
      "cell_type": "markdown",
      "source": [
        "Creating new dataframes based on unique *N* values."
      ],
      "metadata": {
        "id": "CdanYhhX2eNz"
      }
    },
    {
      "cell_type": "code",
      "source": [
        "# N = 3\n",
        "df_n3 = data3[data3['N'] == 3]\n",
        "per3 = np.array(df_n3['Percentage'])\n",
        "l = len(dx)\n",
        "percentage3 = [per3[i:i+l] for i in range(0, len(per3), l)]"
      ],
      "metadata": {
        "id": "BjMfdlI0haaK"
      },
      "execution_count": 7,
      "outputs": []
    },
    {
      "cell_type": "markdown",
      "source": [
        "Plotting the heat map"
      ],
      "metadata": {
        "id": "sRlXGWO16qAG"
      }
    },
    {
      "cell_type": "code",
      "source": [
        "Y, X = np.meshgrid(dy, dx)\n",
        "plt.figure(figsize=(8, 6))\n",
        "colormap = plt.pcolormesh(X, Y, percentage3, cmap='viridis')\n",
        "plt.colorbar(colormap)\n",
        "plt.xlabel(r'n', fontsize = 14)\n",
        "plt.xlabel(r'$log_{10}$$D_{x}$', fontsize = 14)\n",
        "plt.ylabel(r'$log_{10}$$D_{y}$', fontsize = 14)\n",
        "plt.title('N = 3', fontsize = 16,  fontweight = 'bold')\n",
        "plt.show()"
      ],
      "metadata": {
        "colab": {
          "base_uri": "https://localhost:8080/",
          "height": 575
        },
        "id": "Yx6hsCDhhebJ",
        "outputId": "fc4ad518-4f36-4dba-c25b-490628f48261"
      },
      "execution_count": 8,
      "outputs": [
        {
          "output_type": "display_data",
          "data": {
            "text/plain": [
              "<Figure size 800x600 with 2 Axes>"
            ],
            "image/png": "[encoded data removed]"
          },
          "metadata": {}
        }
      ]
    },
    {
      "cell_type": "markdown",
      "source": [
        "***\n"
      ],
      "metadata": {
        "id": "MgJxpQ8y6uuY"
      }
    },
    {
      "cell_type": "markdown",
      "source": [
        "***"
      ],
      "metadata": {
        "id": "g6R8nIO4Jvum"
      }
    },
    {
      "cell_type": "markdown",
      "source": [
        "Next, we generate and visualise data for *N* = 4, 10, and 50.\n",
        "\n",
        "Note: In *figure8_re_v3.py* script, the plots are produced simultaneously."
      ],
      "metadata": {
        "id": "GisuFVhSJ0MB"
      }
    },
    {
      "cell_type": "markdown",
      "source": [
        "### *N* = 4"
      ],
      "metadata": {
        "id": "nlJge24z3zuv"
      }
    },
    {
      "cell_type": "code",
      "source": [
        "dp_list = [(par, x, y) for par in params4 for x in dx for y in dy]\n",
        "start_time = time.time()\n",
        "# Number of cores to use\n",
        "num_cores = 2\n",
        "\n",
        "# creating multiprocessing pool\n",
        "pool = ThreadPool(processes=num_cores)\n",
        "\n",
        "# using the pool to apply the process_tuple function to each tuple in the list\n",
        "results = pool.map(process_tuple, dp_list)\n",
        "# Close the pool\n",
        "pool.close()\n",
        "pool.join()\n",
        "\n",
        "end_time = time.time()\n",
        "\n",
        "df_data = pd.DataFrame({'N': [x[0][0] for x in dp_list], 'Dx': [x[1] for x in dp_list], 'Dy': [x[2] for x in dp_list], 'Percentage': results})\n",
        "df_data.to_csv(os.path.join('./', 'heatmap4_fig8.csv'), index=False)\n",
        "total_time = end_time - start_time\n",
        "print(f\"Total execution time: {total_time:.2f} seconds\")\n",
        "\n",
        "\n",
        "path4 = './heatmap4_fig8.csv'\n",
        "data4 = pd.read_csv(path4)\n",
        "\n",
        "df_n4 = data4[data4['N'] == 4]\n",
        "per4 = np.array(df_n4['Percentage'])\n",
        "l = len(dx)\n",
        "percentage4 = [per4[i:i+l] for i in range(0, len(per4), l)]\n",
        "\n",
        "\n",
        "Y, X = np.meshgrid(dy, dx)\n",
        "plt.figure(figsize=(8, 6))\n",
        "colormap = plt.pcolormesh(X, Y, percentage4, cmap='viridis')\n",
        "plt.colorbar(colormap)\n",
        "plt.xlabel(r'n', fontsize = 14)\n",
        "plt.xlabel(r'$log_{10}$$D_{x}$', fontsize = 14)\n",
        "plt.ylabel(r'$log_{10}$$D_{y}$', fontsize = 14)\n",
        "plt.title('N = 4', fontsize = 16,  fontweight = 'bold')\n",
        "plt.show()"
      ],
      "metadata": {
        "colab": {
          "base_uri": "https://localhost:8080/",
          "height": 593
        },
        "id": "kxbwpWPe5k-x",
        "outputId": "74397f6c-17f3-45a1-95a6-cbb25b5a5691"
      },
      "execution_count": 15,
      "outputs": [
        {
          "output_type": "stream",
          "name": "stdout",
          "text": [
            "Total execution time: 189.69 seconds\n"
          ]
        },
        {
          "output_type": "display_data",
          "data": {
            "text/plain": [
              "<Figure size 800x600 with 2 Axes>"
            ],
            "image/png": "[encoded data removed]"
          },
          "metadata": {}
        }
      ]
    },
    {
      "cell_type": "markdown",
      "source": [
        "***"
      ],
      "metadata": {
        "id": "bXOXW9eJKRnl"
      }
    },
    {
      "cell_type": "markdown",
      "source": [
        "### *N* = 10"
      ],
      "metadata": {
        "id": "mtBJJSKIKXgT"
      }
    },
    {
      "cell_type": "code",
      "source": [
        "dp_list = [(par, x, y) for par in params10 for x in dx for y in dy]\n",
        "start_time = time.time()\n",
        "num_cores = 2\n",
        "\n",
        "pool = ThreadPool(processes=num_cores)\n",
        "results = pool.map(process_tuple, dp_list)\n",
        "pool.close()\n",
        "pool.join()\n",
        "\n",
        "end_time = time.time()\n",
        "\n",
        "df_data = pd.DataFrame({'N': [x[0][0] for x in dp_list], 'Dx': [x[1] for x in dp_list], 'Dy': [x[2] for x in dp_list], 'Percentage': results})\n",
        "df_data.to_csv(os.path.join('./', 'heatmap10_fig8.csv'), index=False)\n",
        "total_time = end_time - start_time\n",
        "print(f\"Total execution time: {total_time:.2f} seconds\")\n",
        "\n",
        "\n",
        "path10 = './heatmap10_fig8.csv'\n",
        "data10 = pd.read_csv(path10)\n",
        "\n",
        "df_n10 = data10[data10['N'] == 10]\n",
        "per10 = np.array(df_n10['Percentage'])\n",
        "l = len(dx)\n",
        "percentage10 = [per10[i:i+l] for i in range(0, len(per10), l)]\n",
        "\n",
        "Y, X = np.meshgrid(dy, dx)\n",
        "plt.figure(figsize=(8, 6))\n",
        "colormap = plt.pcolormesh(X, Y, percentage10, cmap='viridis')\n",
        "plt.colorbar(colormap)\n",
        "plt.xlabel(r'n', fontsize = 14)\n",
        "plt.xlabel(r'$log_{10}$$D_{x}$', fontsize = 14)\n",
        "plt.ylabel(r'$log_{10}$$D_{y}$', fontsize = 14)\n",
        "plt.title('N = 10', fontsize = 16,  fontweight = 'bold')\n",
        "plt.show()"
      ],
      "metadata": {
        "colab": {
          "base_uri": "https://localhost:8080/",
          "height": 593
        },
        "id": "dO6f7UAN5lHR",
        "outputId": "a2de8d52-ca3e-47d3-a1e0-48bc6f6099d8"
      },
      "execution_count": 18,
      "outputs": [
        {
          "output_type": "stream",
          "name": "stdout",
          "text": [
            "Total execution time: 235.62 seconds\n"
          ]
        },
        {
          "output_type": "display_data",
          "data": {
            "text/plain": [
              "<Figure size 800x600 with 2 Axes>"
            ],
            "image/png": "[encoded data removed]"
          },
          "metadata": {}
        }
      ]
    },
    {
      "cell_type": "markdown",
      "source": [
        "***"
      ],
      "metadata": {
        "id": "e_KgnGL1KTez"
      }
    },
    {
      "cell_type": "markdown",
      "source": [
        "### *N* = 50"
      ],
      "metadata": {
        "id": "DCUHka5xKcmL"
      }
    },
    {
      "cell_type": "code",
      "source": [
        "dp_list = [(par, x, y) for par in params50 for x in dx for y in dy]\n",
        "start_time = time.time()\n",
        "num_cores = 2\n",
        "\n",
        "\n",
        "pool = ThreadPool(processes=num_cores)\n",
        "results = pool.map(process_tuple, dp_list)\n",
        "pool.close()\n",
        "pool.join()\n",
        "\n",
        "end_time = time.time()\n",
        "\n",
        "df_data = pd.DataFrame({'N': [x[0][0] for x in dp_list], 'Dx': [x[1] for x in dp_list], 'Dy': [x[2] for x in dp_list], 'Percentage': results})\n",
        "df_data.to_csv(os.path.join('./', 'heatmap50_fig8.csv'), index=False)\n",
        "total_time = end_time - start_time\n",
        "print(f\"Total execution time: {total_time:.2f} seconds\")\n",
        "\n",
        "\n",
        "\n",
        "path50 = './heatmap50_fig8.csv'\n",
        "data50 = pd.read_csv(path50)\n",
        "\n",
        "df_n50 = data50[data50['N'] == 50]\n",
        "per50 = np.array(df_n50['Percentage'])\n",
        "l = len(dx)\n",
        "percentage50 = [per50[i:i+l] for i in range(0, len(per50), l)]\n",
        "\n",
        "\n",
        "Y, X = np.meshgrid(dy, dx)\n",
        "plt.figure(figsize=(8, 6))\n",
        "colormap = plt.pcolormesh(X, Y, percentage50, cmap='viridis')\n",
        "plt.colorbar(colormap)\n",
        "plt.xlabel(r'n', fontsize = 14)\n",
        "plt.xlabel(r'$log_{10}$$D_{x}$', fontsize = 14)\n",
        "plt.ylabel(r'$log_{10}$$D_{y}$', fontsize = 14)\n",
        "plt.title('N = 50', fontsize = 16,  fontweight = 'bold')\n",
        "plt.show()"
      ],
      "metadata": {
        "colab": {
          "base_uri": "https://localhost:8080/",
          "height": 593
        },
        "id": "unDu3rf-5lKW",
        "outputId": "b0de6275-620f-47f9-8081-95d59caaa9fa"
      },
      "execution_count": 19,
      "outputs": [
        {
          "output_type": "stream",
          "name": "stdout",
          "text": [
            "Total execution time: 3981.76 seconds\n"
          ]
        },
        {
          "output_type": "display_data",
          "data": {
            "text/plain": [
              "<Figure size 800x600 with 2 Axes>"
            ],
            "image/png": "[encoded data removed]"
          },
          "metadata": {}
        }
      ]
    }
  ]
}